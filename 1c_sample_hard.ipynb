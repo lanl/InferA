{
 "cells": [
  {
   "cell_type": "code",
   "execution_count": 2,
   "id": "5a663835",
   "metadata": {},
   "outputs": [
    {
     "name": "stdout",
     "output_type": "stream",
     "text": [
      "/vast/projects/exasky/justintam/genericio/legacy_python\n"
     ]
    }
   ],
   "source": [
    "from main import MultiAgentSystem"
   ]
  },
  {
   "cell_type": "code",
   "execution_count": null,
   "id": "eb475b85",
   "metadata": {},
   "outputs": [
    {
     "name": "stderr",
     "output_type": "stream",
     "text": [
      "FastAPI server running at http://127.0.0.1:3000\n",
      "[SESSION] ./state/state.pkl not found. Initializing from new state.\n",
      "INFO:     Started server process [4030967]\n",
      "INFO:     Waiting for application startup.\n",
      "INFO:     Application startup complete.\n",
      "ERROR:    [Errno 98] error while attempting to bind on address ('127.0.0.1', 3000): [errno 98] address already in use\n",
      "INFO:     Waiting for application shutdown.\n",
      "INFO:     Application shutdown complete.\n",
      "[LLM MANAGER] LLMs initialized successfully.\n",
      "\n",
      "            ###########################\n",
      "            [Client Initialized]\n",
      "            Client:         OpenAI API\n",
      "            Model:          gpt-4.1\n",
      "            Embed model:    text-embedding-3-small\n",
      "            ###########################\n",
      "            \n",
      "[RETRIEVER] Setting up embedded model...\n",
      "[RETRIEVER] Vector store directory found at src/data/vector_store\n",
      "Loading faiss with AVX2 support.\n",
      "Successfully loaded faiss with AVX2 support.\n",
      "Failed to load GPU Faiss: name 'GpuIndexIVFFlat' is not defined. Will not load constructor refs for GPU indexes. This is only an error if you're trying to use GPU Faiss.\n",
      "✅ \u001b[1;32mLoaded existing FAISS model successfully.\u001b[0m\n",
      "[RETRIEVER] Embedded model setup.\n"
     ]
    },
    {
     "ename": "",
     "evalue": "",
     "output_type": "error",
     "traceback": [
      "\u001b[1;31mThe Kernel crashed while executing code in the current cell or a previous cell. \n",
      "\u001b[1;31mPlease review the code in the cell(s) to identify a possible cause of the failure. \n",
      "\u001b[1;31mClick <a href='https://aka.ms/vscodeJupyterKernelCrash'>here</a> for more info. \n",
      "\u001b[1;31mView Jupyter <a href='command:jupyter.viewOutput'>log</a> for further details."
     ]
    }
   ],
   "source": [
    "session = \"9822\"\n",
    "step = \"0\"\n",
    "system = MultiAgentSystem(session = session, step = step)"
   ]
  },
  {
   "cell_type": "code",
   "execution_count": null,
   "id": "606f95b6",
   "metadata": {},
   "outputs": [
    {
     "name": "stderr",
     "output_type": "stream",
     "text": [
      "State saved to : 9822_0.\n",
      "\n",
      "\u001b[1;34m[ENTRYPOINT] Starting node...\u001b[0m\n",
      "\u001b[1;34m[ENTRYPOINT] Finished node.\u001b[0m\n",
      "State saved to : 9822_1.\n",
      "\n",
      "\u001b[1;34m[PLANNERNODE] Starting node...\u001b[0m\n"
     ]
    },
    {
     "name": "stdout",
     "output_type": "stream",
     "text": [
      "Update from node EntryPoint:\n",
      "\n",
      "\n",
      "================================\u001b[1m Human Message \u001b[0m=================================\n",
      "\n",
      "Simulation 0 was run with the following parameters: FSN = 0.5387, VEL = 149.279, TEXP = 9.613, BETA = 0.8710, SEED = 9.548e5. \n",
      "Simulation 2 was run with the following parameters: FSN = 0.4484, VEL = 174.181, TEXP = 9.952, BETA = 0.7258, SEED = 3.129e5.\n",
      "Can you make a prediction for how the 10 largest halos at timestep = 498 might change if FSN was somewhere between these two simulations, say at FSN = 0.49?\n",
      "\n",
      "\n",
      "\n"
     ]
    },
    {
     "name": "stderr",
     "output_type": "stream",
     "text": [
      "HTTP Request: POST https://api.openai.com/v1/chat/completions \"HTTP/1.1 200 OK\"\n",
      "[CURRENT USAGE]{'prompt_tokens': 1083, 'completion_tokens': 292, 'total_tokens': 1375, 'cache_tokens': 0}, 0.004502 $\n",
      "\u001b[1;34m[PLANNERNODE] Finished node.\u001b[0m\n",
      "State saved to : 9822_2.\n",
      "\n",
      "\u001b[1;34m[HUMANFEEDBACK] Starting node...\u001b[0m\n",
      "\u001b[1;34m[HUMANFEEDBACK] Finished node.\u001b[0m\n",
      "State saved to : 9822_3.\n",
      "\n",
      "\u001b[1;34m[PLANNERNODE] Starting node...\u001b[0m\n",
      "\u001b[1;34m[PLANNERNODE] Finished node.\u001b[0m\n",
      "State saved to : 9822_4.\n",
      "\n",
      "\u001b[1;34m[DOCUMENTATION] Starting node...\u001b[0m\n"
     ]
    },
    {
     "name": "stdout",
     "output_type": "stream",
     "text": [
      "Update from node Planner:\n",
      "\n",
      "\n",
      "==================================\u001b[1m Ai Message \u001b[0m==================================\n",
      "\n",
      "Plan for analysis:\n",
      "\n",
      "\u001b[1;35mTask: Predict how the 10 largest halos at timestep 498 might change if FSN is set to 0.49 (between Sim 0 and Sim 2).\u001b[0m\n",
      "\n",
      "\u001b[1;35m  - Step 1: DataLoader: Load halo data (including unique identifier, mass, and coordinates) for timestep 498 from both Simulation 0 and Simulation 2. Ensure all relevant properties for halos are included for downstream analysis.\u001b[0m\n",
      "\n",
      "\u001b[1;35m  - Step 2: SQLProgrammer: For each simulation (0 and 2), select the 10 largest halos by mass at timestep 498. Extract their properties (including mass, coordinates, and unique identifiers) into a working database.\u001b[0m\n",
      "\n",
      "\u001b[1;35m  - Step 3: PythonProgrammer: Compare the properties (especially mass and spatial distribution) of the 10 largest halos between Simulation 0 and Simulation 2. Quantify the differences in mass and position for each rank (1st largest, 2nd largest, etc.).\u001b[0m\n",
      "\n",
      "\u001b[1;35m  - Step 4: PythonProgrammer: Interpolate the properties of the 10 largest halos to estimate what their properties would be at FSN = 0.49, assuming a linear relationship between FSN and the observed halo properties between Sim 0 and Sim 2.\u001b[0m\n",
      "\n",
      "\u001b[1;35m  - Step 5: Summary: Summarize the predicted changes in the 10 largest halos at timestep 498 if FSN is set to 0.49, including estimated masses and positions, as well as any notable trends or uncertainties in the interpolation.\u001b[0m\n",
      "\n",
      "\n",
      "Update from node HumanFeedback:\n",
      "\n",
      "\n",
      "==================================\u001b[1m Ai Message \u001b[0m==================================\n",
      "\n",
      "\u001b[1;31mSkipping human feedback (automatic approval). Sending back to previous node.\u001b[0m\n",
      "\n",
      "\n",
      "Update from node Planner:\n",
      "\n",
      "\n",
      "==================================\u001b[1m Ai Message \u001b[0m==================================\n",
      "\n",
      "Plan approved. Beginning analysis.\n",
      "\n",
      "\n"
     ]
    },
    {
     "name": "stderr",
     "output_type": "stream",
     "text": [
      "HTTP Request: POST https://api.openai.com/v1/chat/completions \"HTTP/1.1 200 OK\"\n",
      "[CURRENT USAGE]{'prompt_tokens': 2435, 'completion_tokens': 573, 'total_tokens': 3008, 'cache_tokens': 0}, 0.009454 $\n",
      "\u001b[1;34m[DOCUMENTATION] Finished node.\u001b[0m\n",
      "State saved to : 9822_5.\n",
      "\n",
      "\u001b[1;34m[SUPERVISOR] Starting node...\u001b[0m\n"
     ]
    },
    {
     "name": "stdout",
     "output_type": "stream",
     "text": [
      "Update from node Documentation:\n",
      "\n",
      "\n",
      "==================================\u001b[1m Ai Message \u001b[0m==================================\n",
      "\n",
      "Documentation has been recorded.\n",
      "\n",
      "\n"
     ]
    },
    {
     "name": "stderr",
     "output_type": "stream",
     "text": [
      "HTTP Request: POST https://api.openai.com/v1/chat/completions \"HTTP/1.1 200 OK\"\n",
      "[CURRENT USAGE]{'prompt_tokens': 3984, 'completion_tokens': 621, 'total_tokens': 4605, 'cache_tokens': 0}, 0.012936 $\n",
      "\u001b[1;34m[SUPERVISOR] Finished node.\u001b[0m\n",
      "State saved to : 9822_6.\n",
      "\n",
      "State saved to : 9822_7.\n",
      "\n",
      "\u001b[1;34m[DATALOADER] Starting node...\u001b[0m\n"
     ]
    },
    {
     "name": "stdout",
     "output_type": "stream",
     "text": [
      "Update from node Supervisor:\n",
      "\n",
      "\n",
      "==================================\u001b[1m Ai Message \u001b[0m==================================\n",
      "Tool Calls:\n",
      "  redirect (call_rsIN2RqbNTjYmk9MBrFwkoMh)\n",
      " Call ID: call_rsIN2RqbNTjYmk9MBrFwkoMh\n",
      "  Args:\n",
      "    next: DataLoader\n",
      "    task: Load halo data (including unique identifier, mass, and coordinates) for timestep 498 from both Simulation 0 and Simulation 2. Ensure all relevant properties for halos are included for downstream analysis.\n",
      "\n",
      "\n",
      "Update from node RoutingTool:\n",
      "\n",
      "\n",
      "=================================\u001b[1m Tool Message \u001b[0m=================================\n",
      "Name: redirect\n",
      "\n",
      "You will be redirected to DataLoader. Load halo data (including unique identifier, mass, and coordinates) for timestep 498 from both Simulation 0 and Simulation 2. Ensure all relevant properties for halos are included for downstream analysis.\n",
      "\n",
      "\n"
     ]
    },
    {
     "name": "stderr",
     "output_type": "stream",
     "text": [
      "HTTP Request: POST https://api.openai.com/v1/chat/completions \"HTTP/1.1 200 OK\"\n",
      "[CURRENT USAGE]{'prompt_tokens': 4878, 'completion_tokens': 651, 'total_tokens': 5529, 'cache_tokens': 0}, 0.014964 $\n",
      "\u001b[1;34m[DATALOADER] Finished node.\u001b[0m\n",
      "State saved to : 9822_8.\n",
      "\n",
      "Simulation 0: /vast/projects/exasky/data/hacc/SCIDAC_RUNS/128MPC_RUNS_FLAMINGO_DESIGN_3B\n",
      "Simulation 1: /vast/projects/exasky/data/hacc/SCIDAC_RUNS/128MPC_RUNS_FLAMINGO_DESIGN_3A\n",
      "Simulation 2: /vast/projects/libra/scidac_data/128MPC_RUNS_FLAMNGO_DESIGN_3A\n",
      "Simulation 3: /vast/projects/libra/scidac_data/128MPC_RUNS_FLAMNGO_DESIGN_3B\n",
      "State saved to : 9822_9.\n",
      "\n",
      "\u001b[1;34m[DATALOADER] Starting node...\u001b[0m\n",
      "\u001b[1;34m[DATALOADER] Finished node.\u001b[0m\n",
      "State saved to : 9822_10.\n",
      "\n",
      "\u001b[1;34m[RETRIEVER] Starting node...\u001b[0m\n"
     ]
    },
    {
     "name": "stdout",
     "output_type": "stream",
     "text": [
      "Update from node DataLoader:\n",
      "\n",
      "\n",
      "==================================\u001b[1m Ai Message \u001b[0m==================================\n",
      "Tool Calls:\n",
      "  load_file_index (call_c8wmm4Yv0kJwjaHzmWzquZz3)\n",
      " Call ID: call_c8wmm4Yv0kJwjaHzmWzquZz3\n",
      "  Args:\n",
      "    sim_idx: [0, 2]\n",
      "    timestep: [498]\n",
      "    object: ['haloproperties']\n",
      "\n",
      "\n",
      "Update from node DataLoaderTool:\n",
      "\n",
      "\n",
      "=================================\u001b[1m Tool Message \u001b[0m=================================\n",
      "Name: load_file_index\n",
      "\n",
      "Successfully loaded file index information\n",
      "\n",
      "\n",
      "Update from node DataLoader:\n",
      "\n",
      "\n",
      "==================================\u001b[1m Ai Message \u001b[0m==================================\n",
      "\n",
      "Retrieving relevant columns. Sending to retriever node.\n",
      "\n",
      "\n"
     ]
    },
    {
     "name": "stderr",
     "output_type": "stream",
     "text": [
      "HTTP Request: POST https://api.openai.com/v1/embeddings \"HTTP/1.1 200 OK\"\n",
      "HTTP Request: POST https://api.openai.com/v1/embeddings \"HTTP/1.1 200 OK\"\n",
      "HTTP Request: POST https://api.openai.com/v1/embeddings \"HTTP/1.1 200 OK\"\n",
      "HTTP Request: POST https://api.openai.com/v1/embeddings \"HTTP/1.1 200 OK\"\n",
      "\u001b[1;34m[RETRIEVER] Finished node.\u001b[0m\n",
      "State saved to : 9822_11.\n",
      "\n",
      "\u001b[1;34m[DATALOADER] Starting node...\u001b[0m\n"
     ]
    },
    {
     "name": "stdout",
     "output_type": "stream",
     "text": [
      "Update from node Retriever:\n",
      "\n",
      "\n",
      "==================================\u001b[1m Ai Message \u001b[0m==================================\n",
      "\n",
      "Retrieved 64 relevant documents.\n",
      "\n",
      "['[IMPORTANT] Retrieve names marked as important.', 'Simulation 0 was run with the following parameters: FSN = 0.5387, VEL = 149.279, TEXP = 9.613, BETA = 0.8710, SEED = 9.548e5. \\nSimulation 2 was run with the following parameters: FSN = 0.4484, VEL = 174.181, TEXP = 9.952, BETA = 0.7258, SEED = 3.129e5.\\nCan you make a prediction for how the 10 largest halos at timestep = 498 might change if FSN was somewhere between these two simulations, say at FSN = 0.49?\\n', 'Load halo data (including unique identifier, mass, and coordinates) for timestep 498 from both Simulation 0 and Simulation 2. Ensure all relevant properties for halos are included for downstream analysis.', \"{'task': 'Predict how the 10 largest halos at timestep 498 might change if FSN is set to 0.49 (between Sim 0 and Sim 2).', 'steps': [{'description': 'DataLoader: Load halo data (including unique identifier, mass, and coordinates) for timestep 498 from both Simulation 0 and Simulation 2. Ensure all relevant properties for halos are included for downstream analysis.'}, {'description': 'SQLProgrammer: For each simulation (0 and 2), select the 10 largest halos by mass at timestep 498. Extract their properties (including mass, coordinates, and unique identifiers) into a working database.'}, {'description': 'PythonProgrammer: Compare the properties (especially mass and spatial distribution) of the 10 largest halos between Simulation 0 and Simulation 2. Quantify the differences in mass and position for each rank (1st largest, 2nd largest, etc.).'}, {'description': 'PythonProgrammer: Interpolate the properties of the 10 largest halos to estimate what their properties would be at FSN = 0.49, assuming a linear relationship between FSN and the observed halo properties between Sim 0 and Sim 2.'}, {'description': 'Summary: Summarize the predicted changes in the 10 largest halos at timestep 498 if FSN is set to 0.49, including estimated masses and positions, as well as any notable trends or uncertainties in the interpolation.'}]}\"].\n",
      "\n",
      "\n"
     ]
    },
    {
     "name": "stderr",
     "output_type": "stream",
     "text": [
      "HTTP Request: POST https://api.openai.com/v1/chat/completions \"HTTP/1.1 200 OK\"\n",
      "[CURRENT USAGE]{'prompt_tokens': 10610, 'completion_tokens': 743, 'total_tokens': 11353, 'cache_tokens': 0}, 0.027164 $\n",
      "\n",
      "[{'name': 'load_to_db', 'args': {'columns': ['fof_halo_tag', 'fof_halo_mass', 'sod_halo_mass', 'sod_halo_mmagn_id', 'sod_halo_mmagn_x', 'sod_halo_mmagn_y', 'sod_halo_mmagn_z', 'sod_halo_center_y', 'sod_halo_center_z', 'sod_halo_center_x'], 'object_type': 'haloproperties'}, 'id': 'call_wqfnKxWBRIUcnEMo5AUjoqv3', 'type': 'tool_call'}]\n",
      "\n",
      "--- Human feedback requested ---\n",
      "Skipping human feedback (leave approval to agent).\n",
      "\u001b[1;34m[DATALOADER] Finished node.\u001b[0m\n",
      "State saved to : 9822_12.\n",
      "\n"
     ]
    },
    {
     "name": "stdout",
     "output_type": "stream",
     "text": [
      "Update from node DataLoader:\n",
      "\n",
      "\n",
      "==================================\u001b[1m Ai Message \u001b[0m==================================\n",
      "Tool Calls:\n",
      "  load_to_db (call_wqfnKxWBRIUcnEMo5AUjoqv3)\n",
      " Call ID: call_wqfnKxWBRIUcnEMo5AUjoqv3\n",
      "  Args:\n",
      "    columns: ['fof_halo_tag', 'fof_halo_mass', 'sod_halo_mass', 'sod_halo_mmagn_id', 'sod_halo_mmagn_x', 'sod_halo_mmagn_y', 'sod_halo_mmagn_z', 'sod_halo_center_y', 'sod_halo_center_z', 'sod_halo_center_x']\n",
      "    object_type: haloproperties\n",
      "\n",
      "\n"
     ]
    },
    {
     "name": "stderr",
     "output_type": "stream",
     "text": [
      "\n",
      "- File: /vast/projects/exasky/data/hacc/SCIDAC_RUNS/128MPC_RUNS_FLAMINGO_DESIGN_3B/FSN_0.5387_VEL_149.279_TEXP_9.613_BETA_0.8710_SEED_9.548e5/analysis/m000p-498.haloproperties\n",
      "\n",
      "- File: /vast/projects/libra/scidac_data/128MPC_RUNS_FLAMNGO_DESIGN_3A/FSN_0.4484_VEL_174.181_TEXP_9.952_BETA_0.7258_SEED_3.129e5/analysis/m000p-498.haloproperties\n",
      "State saved to : 9822_13.\n",
      "\n",
      "\u001b[1;34m[DATALOADER] Starting node...\u001b[0m\n",
      "\u001b[1;34m[DATALOADER] Finished node.\u001b[0m\n",
      "State saved to : 9822_14.\n",
      "\n",
      "\u001b[1;34m[DOCUMENTATION] Starting node...\u001b[0m\n"
     ]
    },
    {
     "name": "stdout",
     "output_type": "stream",
     "text": [
      "DataFrame summary:\n",
      "- Number of rows: 5\n",
      "- Number of columns: 13\n",
      "- Columns: ['fof_halo_tag', 'fof_halo_mass', 'sod_halo_mass', 'sod_halo_mmagn_id', 'sod_halo_mmagn_x', 'sod_halo_mmagn_y', 'sod_halo_mmagn_z', 'sod_halo_center_y', 'sod_halo_center_z', 'sod_halo_center_x', 'simulation', 'time_step', 'object_type']\n",
      "\n",
      "╒════════════════╤═════════════════╤═════════════════╤═════════════════════╤════════════════════╤════════════════════╕\n",
      "│   fof_halo_tag │   fof_halo_mass │   sod_halo_mass │   sod_halo_mmagn_id │   sod_halo_mmagn_x │   sod_halo_mmagn_y │\n",
      "╞════════════════╪═════════════════╪═════════════════╪═════════════════════╪════════════════════╪════════════════════╡\n",
      "│    4.5636e+07  │     2.71296e+10 │  -101           │                -101 │               -101 │               -101 │\n",
      "├────────────────┼─────────────────┼─────────────────┼─────────────────────┼────────────────────┼────────────────────┤\n",
      "│    1.10778e+07 │     2.2608e+10  │  -101           │                -101 │               -101 │               -101 │\n",
      "├────────────────┼─────────────────┼─────────────────┼─────────────────────┼────────────────────┼────────────────────┤\n",
      "│    8.91784e+07 │     5.19983e+10 │  -101           │                -101 │               -101 │               -101 │\n",
      "├────────────────┼─────────────────┼─────────────────┼─────────────────────┼────────────────────┼────────────────────┤\n",
      "│    1.16789e+07 │     4.86071e+10 │  -101           │                -101 │               -101 │               -101 │\n",
      "├────────────────┼─────────────────┼─────────────────┼─────────────────────┼────────────────────┼────────────────────┤\n",
      "│    3.16622e+07 │     5.99111e+10 │     5.20806e+10 │                -101 │               -101 │               -101 │\n",
      "╘════════════════╧═════════════════╧═════════════════╧═════════════════════╧════════════════════╧════════════════════╛\n",
      "Update from node DBWriter:\n",
      "\n",
      "\n",
      "=================================\u001b[1m Tool Message \u001b[0m=================================\n",
      "Name: load_to_db\n",
      "\n",
      "Wrote all data to ./data_storage/9822/9822.duckdb. TABLE = 'haloproperties', Columns = ['fof_halo_tag', 'fof_halo_mass', 'sod_halo_mass', 'sod_halo_mmagn_id', 'sod_halo_mmagn_x', 'sod_halo_mmagn_y', 'sod_halo_mmagn_z', 'sod_halo_center_y', 'sod_halo_center_z', 'sod_halo_center_x', 'simulation', 'time_step', 'object_type'] All dataframes concatenated via: full_df = pd.concat(all_dfs, ignore_index=True)\n",
      "\n",
      "\n",
      "Update from node DataLoader:\n",
      "\n",
      "\n",
      "==================================\u001b[1m Ai Message \u001b[0m==================================\n",
      "\n",
      "✅ \u001b[1;32mAll dataloading tasks completed. Loaded in necessary data, and wrote to: \n",
      "./data_storage/9822/9822.duckdb\u001b[0m\n",
      "\n",
      "\n"
     ]
    }
   ],
   "source": [
    "user_input = \"\"\"Simulation 0 was run with the following parameters: FSN = 0.5387, VEL = 149.279, TEXP = 9.613, BETA = 0.8710, SEED = 9.548e5. \n",
    "Simulation 2 was run with the following parameters: FSN = 0.4484, VEL = 174.181, TEXP = 9.952, BETA = 0.7258, SEED = 3.129e5.\n",
    "Can you make a prediction for how the 10 largest halos at timestep = 498 might change if FSN was somewhere between these two simulations, say at FSN = 0.49?\n",
    "\"\"\"\n",
    "system.run(user_input)"
   ]
  }
 ],
 "metadata": {
  "kernelspec": {
   "display_name": "venv_InferA",
   "language": "python",
   "name": "python3"
  },
  "language_info": {
   "codemirror_mode": {
    "name": "ipython",
    "version": 3
   },
   "file_extension": ".py",
   "mimetype": "text/x-python",
   "name": "python",
   "nbconvert_exporter": "python",
   "pygments_lexer": "ipython3",
   "version": "3.12.8"
  }
 },
 "nbformat": 4,
 "nbformat_minor": 5
}
